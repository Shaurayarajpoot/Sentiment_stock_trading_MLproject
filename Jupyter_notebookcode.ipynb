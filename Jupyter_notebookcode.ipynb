{
 "cells": [
  {
   "cell_type": "code",
   "execution_count": 1,
   "id": "d48eb215-dcfc-4858-a0a2-a12fd8d48daa",
   "metadata": {},
   "outputs": [],
   "source": [
    "import pandas as pd\n"
   ]
  },
  {
   "cell_type": "code",
   "execution_count": 2,
   "id": "1c9d0a86-6acb-4880-b7ea-d54b1bd20f40",
   "metadata": {},
   "outputs": [],
   "source": [
    "# Load your datasets\n",
    "fear_greed_df = pd.read_csv(r\"C:\\Users\\shaur\\Desktop\\fear_greed_index.csv\")\n",
    "historical_data_df = pd.read_csv(r\"C:\\Users\\shaur\\Desktop\\historical_data.csv\")"
   ]
  },
  {
   "cell_type": "code",
   "execution_count": 3,
   "id": "17a84ceb-4ee6-48e9-978d-b30034d93885",
   "metadata": {},
   "outputs": [
    {
     "data": {
      "text/html": [
       "<div>\n",
       "<style scoped>\n",
       "    .dataframe tbody tr th:only-of-type {\n",
       "        vertical-align: middle;\n",
       "    }\n",
       "\n",
       "    .dataframe tbody tr th {\n",
       "        vertical-align: top;\n",
       "    }\n",
       "\n",
       "    .dataframe thead th {\n",
       "        text-align: right;\n",
       "    }\n",
       "</style>\n",
       "<table border=\"1\" class=\"dataframe\">\n",
       "  <thead>\n",
       "    <tr style=\"text-align: right;\">\n",
       "      <th></th>\n",
       "      <th>timestamp</th>\n",
       "      <th>value</th>\n",
       "      <th>classification</th>\n",
       "      <th>date</th>\n",
       "    </tr>\n",
       "  </thead>\n",
       "  <tbody>\n",
       "    <tr>\n",
       "      <th>0</th>\n",
       "      <td>1517463000</td>\n",
       "      <td>30</td>\n",
       "      <td>Fear</td>\n",
       "      <td>2018-02-01</td>\n",
       "    </tr>\n",
       "    <tr>\n",
       "      <th>1</th>\n",
       "      <td>1517549400</td>\n",
       "      <td>15</td>\n",
       "      <td>Extreme Fear</td>\n",
       "      <td>2018-02-02</td>\n",
       "    </tr>\n",
       "    <tr>\n",
       "      <th>2</th>\n",
       "      <td>1517635800</td>\n",
       "      <td>40</td>\n",
       "      <td>Fear</td>\n",
       "      <td>2018-02-03</td>\n",
       "    </tr>\n",
       "    <tr>\n",
       "      <th>3</th>\n",
       "      <td>1517722200</td>\n",
       "      <td>24</td>\n",
       "      <td>Extreme Fear</td>\n",
       "      <td>2018-02-04</td>\n",
       "    </tr>\n",
       "    <tr>\n",
       "      <th>4</th>\n",
       "      <td>1517808600</td>\n",
       "      <td>11</td>\n",
       "      <td>Extreme Fear</td>\n",
       "      <td>2018-02-05</td>\n",
       "    </tr>\n",
       "    <tr>\n",
       "      <th>5</th>\n",
       "      <td>1517895000</td>\n",
       "      <td>8</td>\n",
       "      <td>Extreme Fear</td>\n",
       "      <td>2018-02-06</td>\n",
       "    </tr>\n",
       "  </tbody>\n",
       "</table>\n",
       "</div>"
      ],
      "text/plain": [
       "    timestamp  value classification        date\n",
       "0  1517463000     30           Fear  2018-02-01\n",
       "1  1517549400     15   Extreme Fear  2018-02-02\n",
       "2  1517635800     40           Fear  2018-02-03\n",
       "3  1517722200     24   Extreme Fear  2018-02-04\n",
       "4  1517808600     11   Extreme Fear  2018-02-05\n",
       "5  1517895000      8   Extreme Fear  2018-02-06"
      ]
     },
     "execution_count": 3,
     "metadata": {},
     "output_type": "execute_result"
    }
   ],
   "source": [
    "fear_greed_df.head(6)"
   ]
  },
  {
   "cell_type": "code",
   "execution_count": 4,
   "id": "9bf24655-2184-44ef-8374-e291f69851d3",
   "metadata": {},
   "outputs": [
    {
     "data": {
      "text/html": [
       "<div>\n",
       "<style scoped>\n",
       "    .dataframe tbody tr th:only-of-type {\n",
       "        vertical-align: middle;\n",
       "    }\n",
       "\n",
       "    .dataframe tbody tr th {\n",
       "        vertical-align: top;\n",
       "    }\n",
       "\n",
       "    .dataframe thead th {\n",
       "        text-align: right;\n",
       "    }\n",
       "</style>\n",
       "<table border=\"1\" class=\"dataframe\">\n",
       "  <thead>\n",
       "    <tr style=\"text-align: right;\">\n",
       "      <th></th>\n",
       "      <th>Account</th>\n",
       "      <th>Coin</th>\n",
       "      <th>Execution Price</th>\n",
       "      <th>Size Tokens</th>\n",
       "      <th>Size USD</th>\n",
       "      <th>Side</th>\n",
       "      <th>Timestamp IST</th>\n",
       "      <th>Start Position</th>\n",
       "      <th>Direction</th>\n",
       "      <th>Closed PnL</th>\n",
       "      <th>Transaction Hash</th>\n",
       "      <th>Order ID</th>\n",
       "      <th>Crossed</th>\n",
       "      <th>Fee</th>\n",
       "      <th>Trade ID</th>\n",
       "      <th>Timestamp</th>\n",
       "    </tr>\n",
       "  </thead>\n",
       "  <tbody>\n",
       "    <tr>\n",
       "      <th>0</th>\n",
       "      <td>0xae5eacaf9c6b9111fd53034a602c192a04e082ed</td>\n",
       "      <td>@107</td>\n",
       "      <td>7.9769</td>\n",
       "      <td>986.87</td>\n",
       "      <td>7872.16</td>\n",
       "      <td>BUY</td>\n",
       "      <td>02-12-2024 22:50</td>\n",
       "      <td>0.000000</td>\n",
       "      <td>Buy</td>\n",
       "      <td>0.0</td>\n",
       "      <td>0xec09451986a1874e3a980418412fcd0201f500c95bac...</td>\n",
       "      <td>52017706630</td>\n",
       "      <td>True</td>\n",
       "      <td>0.345404</td>\n",
       "      <td>8.950000e+14</td>\n",
       "      <td>1.730000e+12</td>\n",
       "    </tr>\n",
       "    <tr>\n",
       "      <th>1</th>\n",
       "      <td>0xae5eacaf9c6b9111fd53034a602c192a04e082ed</td>\n",
       "      <td>@107</td>\n",
       "      <td>7.9800</td>\n",
       "      <td>16.00</td>\n",
       "      <td>127.68</td>\n",
       "      <td>BUY</td>\n",
       "      <td>02-12-2024 22:50</td>\n",
       "      <td>986.524596</td>\n",
       "      <td>Buy</td>\n",
       "      <td>0.0</td>\n",
       "      <td>0xec09451986a1874e3a980418412fcd0201f500c95bac...</td>\n",
       "      <td>52017706630</td>\n",
       "      <td>True</td>\n",
       "      <td>0.005600</td>\n",
       "      <td>4.430000e+14</td>\n",
       "      <td>1.730000e+12</td>\n",
       "    </tr>\n",
       "    <tr>\n",
       "      <th>2</th>\n",
       "      <td>0xae5eacaf9c6b9111fd53034a602c192a04e082ed</td>\n",
       "      <td>@107</td>\n",
       "      <td>7.9855</td>\n",
       "      <td>144.09</td>\n",
       "      <td>1150.63</td>\n",
       "      <td>BUY</td>\n",
       "      <td>02-12-2024 22:50</td>\n",
       "      <td>1002.518996</td>\n",
       "      <td>Buy</td>\n",
       "      <td>0.0</td>\n",
       "      <td>0xec09451986a1874e3a980418412fcd0201f500c95bac...</td>\n",
       "      <td>52017706630</td>\n",
       "      <td>True</td>\n",
       "      <td>0.050431</td>\n",
       "      <td>6.600000e+14</td>\n",
       "      <td>1.730000e+12</td>\n",
       "    </tr>\n",
       "    <tr>\n",
       "      <th>3</th>\n",
       "      <td>0xae5eacaf9c6b9111fd53034a602c192a04e082ed</td>\n",
       "      <td>@107</td>\n",
       "      <td>7.9874</td>\n",
       "      <td>142.98</td>\n",
       "      <td>1142.04</td>\n",
       "      <td>BUY</td>\n",
       "      <td>02-12-2024 22:50</td>\n",
       "      <td>1146.558564</td>\n",
       "      <td>Buy</td>\n",
       "      <td>0.0</td>\n",
       "      <td>0xec09451986a1874e3a980418412fcd0201f500c95bac...</td>\n",
       "      <td>52017706630</td>\n",
       "      <td>True</td>\n",
       "      <td>0.050043</td>\n",
       "      <td>1.080000e+15</td>\n",
       "      <td>1.730000e+12</td>\n",
       "    </tr>\n",
       "    <tr>\n",
       "      <th>4</th>\n",
       "      <td>0xae5eacaf9c6b9111fd53034a602c192a04e082ed</td>\n",
       "      <td>@107</td>\n",
       "      <td>7.9894</td>\n",
       "      <td>8.73</td>\n",
       "      <td>69.75</td>\n",
       "      <td>BUY</td>\n",
       "      <td>02-12-2024 22:50</td>\n",
       "      <td>1289.488521</td>\n",
       "      <td>Buy</td>\n",
       "      <td>0.0</td>\n",
       "      <td>0xec09451986a1874e3a980418412fcd0201f500c95bac...</td>\n",
       "      <td>52017706630</td>\n",
       "      <td>True</td>\n",
       "      <td>0.003055</td>\n",
       "      <td>1.050000e+15</td>\n",
       "      <td>1.730000e+12</td>\n",
       "    </tr>\n",
       "  </tbody>\n",
       "</table>\n",
       "</div>"
      ],
      "text/plain": [
       "                                      Account  Coin  Execution Price  \\\n",
       "0  0xae5eacaf9c6b9111fd53034a602c192a04e082ed  @107           7.9769   \n",
       "1  0xae5eacaf9c6b9111fd53034a602c192a04e082ed  @107           7.9800   \n",
       "2  0xae5eacaf9c6b9111fd53034a602c192a04e082ed  @107           7.9855   \n",
       "3  0xae5eacaf9c6b9111fd53034a602c192a04e082ed  @107           7.9874   \n",
       "4  0xae5eacaf9c6b9111fd53034a602c192a04e082ed  @107           7.9894   \n",
       "\n",
       "   Size Tokens  Size USD Side     Timestamp IST  Start Position Direction  \\\n",
       "0       986.87   7872.16  BUY  02-12-2024 22:50        0.000000       Buy   \n",
       "1        16.00    127.68  BUY  02-12-2024 22:50      986.524596       Buy   \n",
       "2       144.09   1150.63  BUY  02-12-2024 22:50     1002.518996       Buy   \n",
       "3       142.98   1142.04  BUY  02-12-2024 22:50     1146.558564       Buy   \n",
       "4         8.73     69.75  BUY  02-12-2024 22:50     1289.488521       Buy   \n",
       "\n",
       "   Closed PnL                                   Transaction Hash     Order ID  \\\n",
       "0         0.0  0xec09451986a1874e3a980418412fcd0201f500c95bac...  52017706630   \n",
       "1         0.0  0xec09451986a1874e3a980418412fcd0201f500c95bac...  52017706630   \n",
       "2         0.0  0xec09451986a1874e3a980418412fcd0201f500c95bac...  52017706630   \n",
       "3         0.0  0xec09451986a1874e3a980418412fcd0201f500c95bac...  52017706630   \n",
       "4         0.0  0xec09451986a1874e3a980418412fcd0201f500c95bac...  52017706630   \n",
       "\n",
       "   Crossed       Fee      Trade ID     Timestamp  \n",
       "0     True  0.345404  8.950000e+14  1.730000e+12  \n",
       "1     True  0.005600  4.430000e+14  1.730000e+12  \n",
       "2     True  0.050431  6.600000e+14  1.730000e+12  \n",
       "3     True  0.050043  1.080000e+15  1.730000e+12  \n",
       "4     True  0.003055  1.050000e+15  1.730000e+12  "
      ]
     },
     "execution_count": 4,
     "metadata": {},
     "output_type": "execute_result"
    }
   ],
   "source": [
    "historical_data_df.head(5)"
   ]
  },
  {
   "cell_type": "code",
   "execution_count": 5,
   "id": "aadfa85e-4886-47a0-8ea8-003055c6c183",
   "metadata": {},
   "outputs": [
    {
     "name": "stdout",
     "output_type": "stream",
     "text": [
      "Fear & Greed Sample:\n",
      "        date classification\n",
      "0 2018-02-01           Fear\n",
      "1 2018-02-02   Extreme Fear\n",
      "2 2018-02-03           Fear\n",
      "3 2018-02-04   Extreme Fear\n",
      "4 2018-02-05   Extreme Fear\n",
      "\n",
      "Trader Data Sample:\n",
      "        Timestamp IST       date\n",
      "0 2024-12-02 22:50:00 2024-12-02\n",
      "1 2024-12-02 22:50:00 2024-12-02\n",
      "2 2024-12-02 22:50:00 2024-12-02\n",
      "3 2024-12-02 22:50:00 2024-12-02\n",
      "4 2024-12-02 22:50:00 2024-12-02\n"
     ]
    }
   ],
   "source": [
    "\n",
    "fear_greed_df['date'] = pd.to_datetime(fear_greed_df['date'], format='%Y-%m-%d')\n",
    "\n",
    "historical_data_df['Timestamp IST'] = pd.to_datetime(historical_data_df['Timestamp IST'], format='%d-%m-%Y %H:%M')\n",
    "\n",
    "\n",
    "historical_data_df['date'] = historical_data_df['Timestamp IST'].dt.date\n",
    "historical_data_df['date'] = pd.to_datetime(historical_data_df['date'])  # match dtype with fear_greed_df\n",
    "\n",
    "\n",
    "print(\"Fear & Greed Sample:\")\n",
    "print(fear_greed_df[['date', 'classification']].head())\n",
    "\n",
    "print(\"\\nTrader Data Sample:\")\n",
    "print(historical_data_df[['Timestamp IST', 'date']].head())\n"
   ]
  },
  {
   "cell_type": "code",
   "execution_count": 6,
   "id": "9911f55f-ee66-4a84-aebe-27940adeeb80",
   "metadata": {},
   "outputs": [
    {
     "name": "stdout",
     "output_type": "stream",
     "text": [
      "        date classification  Closed PnL Side\n",
      "0 2024-12-02  Extreme Greed         0.0  BUY\n",
      "1 2024-12-02  Extreme Greed         0.0  BUY\n",
      "2 2024-12-02  Extreme Greed         0.0  BUY\n",
      "3 2024-12-02  Extreme Greed         0.0  BUY\n",
      "4 2024-12-02  Extreme Greed         0.0  BUY\n"
     ]
    }
   ],
   "source": [
    "\n",
    "merged_df = pd.merge(historical_data_df, fear_greed_df[['date', 'classification']], on='date', how='left')\n",
    "\n",
    "print(merged_df[['date', 'classification', 'Closed PnL', 'Side']].head())\n"
   ]
  },
  {
   "cell_type": "code",
   "execution_count": 7,
   "id": "3e93cf4f-bf9e-4f77-8666-9c461b59c449",
   "metadata": {},
   "outputs": [
    {
     "name": "stdout",
     "output_type": "stream",
     "text": [
      "Average Profit (Closed PnL) by Sentiment:\n",
      "classification\n",
      "Extreme Greed    67.892861\n",
      "Fear             54.290400\n",
      "Greed            42.743559\n",
      "Extreme Fear     34.537862\n",
      "Neutral          34.307718\n",
      "Name: Closed PnL, dtype: float64\n"
     ]
    }
   ],
   "source": [
    "\n",
    "avg_pnl_by_sentiment = merged_df.groupby('classification')['Closed PnL'].mean().sort_values(ascending=False)\n",
    "print(\"Average Profit (Closed PnL) by Sentiment:\")\n",
    "print(avg_pnl_by_sentiment)\n"
   ]
  },
  {
   "cell_type": "code",
   "execution_count": 8,
   "id": "23a1e58d-67f6-4076-ab54-e9eebf26aba7",
   "metadata": {},
   "outputs": [
    {
     "name": "stdout",
     "output_type": "stream",
     "text": [
      "\n",
      "Number of Trades by Sentiment:\n",
      "classification\n",
      "Fear             61837\n",
      "Greed            50303\n",
      "Extreme Greed    39992\n",
      "Neutral          37686\n",
      "Extreme Fear     21400\n",
      "Name: count, dtype: int64\n"
     ]
    }
   ],
   "source": [
    "\n",
    "trade_count_by_sentiment = merged_df['classification'].value_counts()\n",
    "print(\"\\nNumber of Trades by Sentiment:\")\n",
    "print(trade_count_by_sentiment)\n"
   ]
  },
  {
   "cell_type": "code",
   "execution_count": 9,
   "id": "0518da30-2728-4051-b8be-98766ef6f5b0",
   "metadata": {},
   "outputs": [
    {
     "name": "stdout",
     "output_type": "stream",
     "text": [
      "\n",
      "Avg Profit: BUY vs SELL by Sentiment:\n",
      "Side                  BUY        SELL\n",
      "classification                       \n",
      "Extreme Fear    34.114627   34.980106\n",
      "Extreme Greed   10.498927  114.584643\n",
      "Fear            63.927104   45.049641\n",
      "Greed           25.002302   59.691091\n",
      "Neutral         29.227429   39.456408\n"
     ]
    }
   ],
   "source": [
    "\n",
    "buy_sell_pnl = merged_df.groupby(['classification', 'Side'])['Closed PnL'].mean().unstack()\n",
    "print(\"\\nAvg Profit: BUY vs SELL by Sentiment:\")\n",
    "print(buy_sell_pnl)\n"
   ]
  },
  {
   "cell_type": "code",
   "execution_count": 10,
   "id": "ad7bdb1f-20d7-4830-ae3a-ef0003261a2a",
   "metadata": {},
   "outputs": [
    {
     "name": "stderr",
     "output_type": "stream",
     "text": [
      "C:\\Users\\shaur\\AppData\\Local\\Temp\\ipykernel_13952\\513219956.py:10: FutureWarning: \n",
      "\n",
      "Passing `palette` without assigning `hue` is deprecated and will be removed in v0.14.0. Assign the `x` variable to `hue` and set `legend=False` for the same effect.\n",
      "\n",
      "  sns.barplot(x=avg_pnl.index, y=avg_pnl.values, palette=\"coolwarm\")\n"
     ]
    },
    {
     "data": {
      "image/png": "[encoded data removed]",
      "text/plain": [
       "<Figure size 1000x500 with 1 Axes>"
      ]
     },
     "metadata": {},
     "output_type": "display_data"
    }
   ],
   "source": [
    "import matplotlib.pyplot as plt\n",
    "import seaborn as sns\n",
    "\n",
    "\n",
    "sns.set(style=\"whitegrid\")\n",
    "\n",
    "avg_pnl = merged_df.groupby(\"classification\")[\"Closed PnL\"].mean().sort_values()\n",
    "\n",
    "plt.figure(figsize=(10, 5))\n",
    "sns.barplot(x=avg_pnl.index, y=avg_pnl.values, palette=\"coolwarm\")\n",
    "plt.title(\"Average Trader Profit (Closed PnL) by Market Sentiment\")\n",
    "plt.ylabel(\"Average Closed PnL\")\n",
    "plt.xlabel(\"Market Sentiment\")\n",
    "plt.xticks(rotation=45)\n",
    "plt.tight_layout()\n",
    "plt.show()\n"
   ]
  },
  {
   "cell_type": "code",
   "execution_count": 11,
   "id": "6596b40e-1948-400d-85f5-2c510db173de",
   "metadata": {},
   "outputs": [
    {
     "name": "stderr",
     "output_type": "stream",
     "text": [
      "C:\\Users\\shaur\\AppData\\Local\\Temp\\ipykernel_13952\\1246121579.py:4: FutureWarning: \n",
      "\n",
      "Passing `palette` without assigning `hue` is deprecated and will be removed in v0.14.0. Assign the `x` variable to `hue` and set `legend=False` for the same effect.\n",
      "\n",
      "  sns.barplot(x=trade_counts.index, y=trade_counts.values, palette=\"viridis\")\n"
     ]
    },
    {
     "data": {
      "image/png": "[encoded data removed]",
      "text/plain": [
       "<Figure size 1000x500 with 1 Axes>"
      ]
     },
     "metadata": {},
     "output_type": "display_data"
    }
   ],
   "source": [
    "trade_counts = merged_df[\"classification\"].value_counts()\n",
    "\n",
    "plt.figure(figsize=(10, 5))\n",
    "sns.barplot(x=trade_counts.index, y=trade_counts.values, palette=\"viridis\")\n",
    "plt.title(\"Number of Trades by Market Sentiment\")\n",
    "plt.ylabel(\"Number of Trades\")\n",
    "plt.xlabel(\"Market Sentiment\")\n",
    "plt.xticks(rotation=45)\n",
    "plt.tight_layout()\n",
    "plt.show()\n"
   ]
  },
  {
   "cell_type": "code",
   "execution_count": 12,
   "id": "e4e140d3-ae16-4775-8bca-6533e6f33636",
   "metadata": {},
   "outputs": [
    {
     "data": {
      "image/png": "[encoded data removed]",
      "text/plain": [
       "<Figure size 1200x600 with 1 Axes>"
      ]
     },
     "metadata": {},
     "output_type": "display_data"
    }
   ],
   "source": [
    "buy_sell_pnl = merged_df.groupby(['classification', 'Side'])['Closed PnL'].mean().reset_index()\n",
    "\n",
    "plt.figure(figsize=(12, 6))\n",
    "sns.barplot(data=buy_sell_pnl, x=\"classification\", y=\"Closed PnL\", hue=\"Side\", palette=\"Set2\")\n",
    "plt.title(\"BUY vs SELL Profit by Sentiment\")\n",
    "plt.ylabel(\"Average Closed PnL\")\n",
    "plt.xlabel(\"Market Sentiment\")\n",
    "plt.xticks(rotation=45)\n",
    "plt.legend(title=\"Trade Side\")\n",
    "plt.tight_layout()\n",
    "plt.show()\n"
   ]
  },
  {
   "cell_type": "code",
   "execution_count": 13,
   "id": "3ff639e7-8ec1-419d-bdad-a11640d58e51",
   "metadata": {},
   "outputs": [
    {
     "data": {
      "text/html": [
       "<div>\n",
       "<style scoped>\n",
       "    .dataframe tbody tr th:only-of-type {\n",
       "        vertical-align: middle;\n",
       "    }\n",
       "\n",
       "    .dataframe tbody tr th {\n",
       "        vertical-align: top;\n",
       "    }\n",
       "\n",
       "    .dataframe thead th {\n",
       "        text-align: right;\n",
       "    }\n",
       "</style>\n",
       "<table border=\"1\" class=\"dataframe\">\n",
       "  <thead>\n",
       "    <tr style=\"text-align: right;\">\n",
       "      <th></th>\n",
       "      <th>Closed PnL</th>\n",
       "      <th>PnL_Status</th>\n",
       "      <th>Trade_Size</th>\n",
       "      <th>Leverage_Estimate</th>\n",
       "      <th>classification</th>\n",
       "      <th>Sentiment_Label</th>\n",
       "    </tr>\n",
       "  </thead>\n",
       "  <tbody>\n",
       "    <tr>\n",
       "      <th>0</th>\n",
       "      <td>0.0</td>\n",
       "      <td>Loss</td>\n",
       "      <td>Big</td>\n",
       "      <td>1.000000</td>\n",
       "      <td>Extreme Greed</td>\n",
       "      <td>4.0</td>\n",
       "    </tr>\n",
       "    <tr>\n",
       "      <th>1</th>\n",
       "      <td>0.0</td>\n",
       "      <td>Loss</td>\n",
       "      <td>Small</td>\n",
       "      <td>1.000000</td>\n",
       "      <td>Extreme Greed</td>\n",
       "      <td>4.0</td>\n",
       "    </tr>\n",
       "    <tr>\n",
       "      <th>2</th>\n",
       "      <td>0.0</td>\n",
       "      <td>Loss</td>\n",
       "      <td>Big</td>\n",
       "      <td>0.999999</td>\n",
       "      <td>Extreme Greed</td>\n",
       "      <td>4.0</td>\n",
       "    </tr>\n",
       "    <tr>\n",
       "      <th>3</th>\n",
       "      <td>0.0</td>\n",
       "      <td>Loss</td>\n",
       "      <td>Big</td>\n",
       "      <td>1.000001</td>\n",
       "      <td>Extreme Greed</td>\n",
       "      <td>4.0</td>\n",
       "    </tr>\n",
       "    <tr>\n",
       "      <th>4</th>\n",
       "      <td>0.0</td>\n",
       "      <td>Loss</td>\n",
       "      <td>Small</td>\n",
       "      <td>1.000036</td>\n",
       "      <td>Extreme Greed</td>\n",
       "      <td>4.0</td>\n",
       "    </tr>\n",
       "  </tbody>\n",
       "</table>\n",
       "</div>"
      ],
      "text/plain": [
       "   Closed PnL PnL_Status Trade_Size  Leverage_Estimate classification  \\\n",
       "0         0.0       Loss        Big           1.000000  Extreme Greed   \n",
       "1         0.0       Loss      Small           1.000000  Extreme Greed   \n",
       "2         0.0       Loss        Big           0.999999  Extreme Greed   \n",
       "3         0.0       Loss        Big           1.000001  Extreme Greed   \n",
       "4         0.0       Loss      Small           1.000036  Extreme Greed   \n",
       "\n",
       "   Sentiment_Label  \n",
       "0              4.0  \n",
       "1              4.0  \n",
       "2              4.0  \n",
       "3              4.0  \n",
       "4              4.0  "
      ]
     },
     "execution_count": 13,
     "metadata": {},
     "output_type": "execute_result"
    }
   ],
   "source": [
    "\n",
    "merged_df['PnL_Status'] = merged_df['Closed PnL'].apply(lambda x: 'Profit' if x > 0 else 'Loss')\n",
    "\n",
    "\n",
    "merged_df['Trade_Size'] = merged_df['Size USD'].apply(lambda x: 'Big' if x > 1000 else 'Small')\n",
    "\n",
    "\n",
    "\n",
    "merged_df['Leverage_Estimate'] = merged_df.apply(\n",
    "    lambda row: (row['Size USD'] / (row['Execution Price'] * row['Size Tokens']))\n",
    "    if row['Execution Price'] > 0 and row['Size Tokens'] > 0 else 0,\n",
    "    axis=1\n",
    ")\n",
    "\n",
    "\n",
    "sentiment_mapping = {\n",
    "    'Extreme Fear': 0,\n",
    "    'Fear': 1,\n",
    "    'Neutral': 2,\n",
    "    'Greed': 3,\n",
    "    'Extreme Greed': 4\n",
    "}\n",
    "merged_df['Sentiment_Label'] = merged_df['classification'].map(sentiment_mapping)\n",
    "\n",
    "# Show result\n",
    "merged_df[['Closed PnL', 'PnL_Status', 'Trade_Size', 'Leverage_Estimate', 'classification', 'Sentiment_Label']].head()\n"
   ]
  },
  {
   "cell_type": "code",
   "execution_count": null,
   "id": "fe6b50c9-3eaa-4790-a8e4-d7eba7ffbd2c",
   "metadata": {},
   "outputs": [],
   "source": [
    "# Import required libraries\n",
    "from sklearn.model_selection import train_test_split\n",
    "from sklearn.ensemble import RandomForestClassifier\n",
    "from sklearn.metrics import classification_report, confusion_matrix\n",
    "from sklearn.preprocessing import LabelEncoder\n",
    "\n",
    "# Select features for ML\n",
    "features = ['Size USD', 'Execution Price', 'Leverage_Estimate', 'Sentiment_Label']\n",
    "X = merged_df[features]\n",
    "\n",
    "# Target variable: 1 if profit, 0 if loss\n",
    "y = merged_df['PnL_Status'].apply(lambda x: 1 if x == 'Profit' else 0)\n",
    "\n",
    "# Split into training and testing set (80% train, 20% test)\n",
    "X_train, X_test, y_train, y_test = train_test_split(X, y, test_size=0.2, random_state=42)\n",
    "\n",
    "# Train model\n",
    "model = RandomForestClassifier(n_estimators=100, random_state=42)\n",
    "model.fit(X_train, y_train)\n",
    "\n",
    "# Predict\n",
    "y_pred = model.predict(X_test)\n",
    "\n",
    "# Evaluation\n",
    "print(\"📊 Classification Report:\\n\")\n",
    "print(classification_report(y_test, y_pred))\n",
    "\n",
    "print(\"🧾 Confusion Matrix:\\n\")\n",
    "print(confusion_matrix(y_test, y_pred))\n"
   ]
  },
  {
   "cell_type": "code",
   "execution_count": null,
   "id": "770b271f-00d6-43f3-8371-73b33287b799",
   "metadata": {},
   "outputs": [],
   "source": []
  },
  {
   "cell_type": "code",
   "execution_count": null,
   "id": "25a013ca-724e-4cb3-91ab-c3d6ed6527b7",
   "metadata": {},
   "outputs": [],
   "source": []
  },
  {
   "cell_type": "code",
   "execution_count": null,
   "id": "088e4003-2906-45f3-a1da-642056c1e1ad",
   "metadata": {},
   "outputs": [],
   "source": []
  },
  {
   "cell_type": "code",
   "execution_count": null,
   "id": "4032a1b1-9ffa-4311-9c28-144f50bc2933",
   "metadata": {},
   "outputs": [],
   "source": []
  }
 ],
 "metadata": {
  "kernelspec": {
   "display_name": "Python [conda env:base] *",
   "language": "python",
   "name": "conda-base-py"
  },
  "language_info": {
   "codemirror_mode": {
    "name": "ipython",
    "version": 3
   },
   "file_extension": ".py",
   "mimetype": "text/x-python",
   "name": "python",
   "nbconvert_exporter": "python",
   "pygments_lexer": "ipython3",
   "version": "3.12.7"
  }
 },
 "nbformat": 4,
 "nbformat_minor": 5
}
